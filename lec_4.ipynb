{
  "nbformat": 4,
  "nbformat_minor": 0,
  "metadata": {
    "colab": {
      "name": "lec_4.ipynb",
      "provenance": [],
      "authorship_tag": "ABX9TyOZRV4J4TxPdB3UK0kQKoM9",
      "include_colab_link": true
    },
    "kernelspec": {
      "name": "python3",
      "display_name": "Python 3"
    },
    "language_info": {
      "name": "python"
    }
  },
  "cells": [
    {
      "cell_type": "markdown",
      "metadata": {
        "id": "view-in-github",
        "colab_type": "text"
      },
      "source": [
        "<a href=\"https://colab.research.google.com/github/nichtigVermissen/PyTorchZeroToAll/blob/master/lec_4.ipynb\" target=\"_parent\"><img src=\"https://colab.research.google.com/assets/colab-badge.svg\" alt=\"Open In Colab\"/></a>"
      ]
    },
    {
      "cell_type": "markdown",
      "metadata": {
        "id": "bAoeqNit_NOQ"
      },
      "source": [
        "+) Variables are now in torch.tensor, so I can use torch.tensor (..., requires_grad=True)\n",
        "\n",
        "+) It is better to use item() than .data[0]"
      ]
    },
    {
      "cell_type": "code",
      "metadata": {
        "id": "pNviNJGI5-Qu"
      },
      "source": [
        "import torch\n",
        "import pdb\n",
        "\n",
        "x_data = [1.0, 2.0, 3.0]\n",
        "y_data = [2.0, 4.0, 6.0]\n",
        "\n",
        "w = torch.tensor([1.0], requires_grad=True)\n",
        "\n",
        "def forward(x):\n",
        "  return x * w\n",
        "\n",
        "def loss(x, y):\n",
        "  y_pred = forward(x)\n",
        "  return (y_pred - y) ** 2\n",
        "\n",
        "# Before training\n",
        "print(\"predict (before training)\", 4, forward(4).item())\n",
        "\n",
        "# Training loop\n",
        "for epoch in range(10):\n",
        "  for x_val, y_val in zip(x_data, y_data):\n",
        "    l = loss(x_val, y_val)\n",
        "    l.backward()    # compute back propagation\n",
        "    print(\"\\t grad: \", x_val, y_val, w.grad.item())\n",
        "    w.data = w.data - 0.01 * w.grad.data    # weight update\n",
        "\n",
        "    # Manually zero the gradients after updating weights\n",
        "    w.grad.data.zero_()\n",
        "  print(f'Epoch: {epoch} | Loss: {l.item()}')\n",
        "\n",
        "# After training\n",
        "print(\"predict (after training)\", 4, forward(4).item())"
      ],
      "execution_count": null,
      "outputs": []
    },
    {
      "cell_type": "markdown",
      "metadata": {
        "id": "zw7ePWkDAZQs"
      },
      "source": [
        "## Exercise 4-1\n",
        "$ {{\\partial loss} \\over {\\partial w}}= -8$\n",
        "\n",
        "## Exercise 4-2\n",
        "$ {{\\partial loss} \\over {\\partial w}}= 2$"
      ]
    },
    {
      "cell_type": "code",
      "metadata": {
        "id": "C88nAS3nASu7"
      },
      "source": [
        "import numpy as np\n",
        "import math\n",
        "\n",
        "# How can I do partial differentiation with numpy? \n",
        "# Do I need to draw a computational graph using np?\n",
        "for epoch in range(100):\n"
      ],
      "execution_count": null,
      "outputs": []
    },
    {
      "cell_type": "markdown",
      "metadata": {
        "id": "gankzRl0CmrK"
      },
      "source": [
        "## Exercise 4-4\n",
        "$ {\\displaystyle\\hat{y}} = x^2w_2 + xw_1 + b$\n",
        "\n",
        "$ loss = ({\\displaystyle\\hat{y}} -y) ^ 2$\n",
        "\n",
        "$ {{\\partial loss} \\over {\\partial w_1}} = 2x({\\displaystyle\\hat{y}}-y)$\n",
        "\n",
        "$ {{\\partial loss} \\over {\\partial w_2}} = 2x^2({\\displaystyle\\hat{y}}-y)$"
      ]
    }
  ]
}
