{
  "nbformat": 4,
  "nbformat_minor": 0,
  "metadata": {
    "colab": {
      "name": "lec_6.ipynb",
      "provenance": [],
      "authorship_tag": "ABX9TyMDgfS0WfNUWQMOBOLFKX/B",
      "include_colab_link": true
    },
    "kernelspec": {
      "name": "python3",
      "display_name": "Python 3"
    },
    "language_info": {
      "name": "python"
    }
  },
  "cells": [
    {
      "cell_type": "markdown",
      "metadata": {
        "id": "view-in-github",
        "colab_type": "text"
      },
      "source": [
        "<a href=\"https://colab.research.google.com/github/nichtigVermissen/PyTorchZeroToAll/blob/master/lec_6.ipynb\" target=\"_parent\"><img src=\"https://colab.research.google.com/assets/colab-badge.svg\" alt=\"Open In Colab\"/></a>"
      ]
    },
    {
      "cell_type": "code",
      "metadata": {
        "id": "2fnWjr3lK8Fe"
      },
      "source": [
        "import torch\n",
        "import pdb\n",
        "import torch.nn.functional as F\n",
        "\n",
        "x_data = torch.tensor([[1.0], [2.0], [3.0], [4.0]])\n",
        "y_data = torch.tensor([[0.], [0.], [1.], [1.0]])\n",
        "\n",
        "class Model(torch.nn.Module):\n",
        "  def __init__(self):\n",
        "    super(Model, self).__init__()\n",
        "    self.linear = torch.nn.Linear(1, 1) # one in and one out\n",
        "  \n",
        "  def forward(self, x):\n",
        "    y_pred = F.sigmoid(self.linear(x))\n",
        "    return y_pred\n",
        "\n",
        "model = Model()\n",
        "\n",
        "criterion = torch.nn.BCELoss(size_average=True)\n",
        "optimizer = torch.optim.SGD(model.parameters(), lr = 0.01)\n",
        "\n",
        "for epoch in range(1000):\n",
        "  y_pred = model(x_data)\n",
        "  \n",
        "  loss = criterion(y_pred, y_data)\n",
        "  print(epoch, loss.item())\n",
        "\n",
        "  optimizer.zero_grad()\n",
        "  loss.backward()\n",
        "  optimizer.step()\n",
        "\n",
        "hour_var = torch.tensor([[1.0]])\n",
        "print(\"predict 1 hour \", 1.0, model(hour_var).item() > 0.5)\n",
        "hour_var = torch.tensor([[7.0]])\n",
        "print(\"predict 7 hour \", 7.0, model(hour_var).item() > 0.5)\n"
      ],
      "execution_count": null,
      "outputs": []
    },
    {
      "cell_type": "markdown",
      "metadata": {
        "id": "DMyp_nq1US5T"
      },
      "source": [
        "## Exercise 6-1: Try other activation functions\n"
      ]
    }
  ]
}