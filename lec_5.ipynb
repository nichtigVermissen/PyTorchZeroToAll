{
  "nbformat": 4,
  "nbformat_minor": 0,
  "metadata": {
    "colab": {
      "name": "lec_5.ipynb",
      "provenance": [],
      "authorship_tag": "ABX9TyN4Qwq8cTWStgEkuN0YTN+X",
      "include_colab_link": true
    },
    "kernelspec": {
      "name": "python3",
      "display_name": "Python 3"
    },
    "language_info": {
      "name": "python"
    }
  },
  "cells": [
    {
      "cell_type": "markdown",
      "metadata": {
        "id": "view-in-github",
        "colab_type": "text"
      },
      "source": [
        "<a href=\"https://colab.research.google.com/github/nichtigVermissen/PyTorchZeroToAll/blob/master/lec_5.ipynb\" target=\"_parent\"><img src=\"https://colab.research.google.com/assets/colab-badge.svg\" alt=\"Open In Colab\"/></a>"
      ]
    },
    {
      "cell_type": "code",
      "metadata": {
        "id": "1f64L4EEFh2O"
      },
      "source": [
        "import torch\n",
        "import pdb\n",
        "\n",
        "x_data = torch.tensor([[1.0], [2.0], [3.0]])\n",
        "y_data = torch.tensor([[2.0], [4.0], [6.0]])\n",
        "\n",
        "class Model(torch.nn.Module):\n",
        "  def __init__(self):\n",
        "    super(Model, self).__init__()\n",
        "    self.linear = torch.nn.Linear(1, 1) # one in and one out\n",
        "  \n",
        "  def forward(self, x):\n",
        "    y_pred = self.linear(x)\n",
        "    return y_pred\n",
        "\n",
        "model = Model()\n",
        "criterion = torch.nn.MSELoss(size_average=False)\n",
        "optimizer = torch.optim.SGD(model.parameters(), lr = 0.01)  # can deal with lots of variables\n",
        "\n",
        "# Training loop\n",
        "for epoch in range(500):\n",
        "  # Forward pass\n",
        "  y_pred = model(x_data)\n",
        "\n",
        "  # Compute and print loss\n",
        "  loss = criterion(y_pred, y_data)\n",
        "  print(epoch, loss.item())\n",
        "\n",
        "  # Zero gradients, perform a backward pass, and update the weights\n",
        "  optimizer.zero_grad()\n",
        "  loss.backward()\n",
        "  optimizer.step()\n",
        "  \n",
        "hour_var = torch.tensor([4.0])\n",
        "print(\"predict (after training)\", 4, model.forward(hour_var).item())"
      ],
      "execution_count": null,
      "outputs": []
    },
    {
      "cell_type": "markdown",
      "metadata": {
        "id": "VbLcl17lKRRF"
      },
      "source": [
        "## Exercise 5-1 : Try other optimizers\n",
        "- torch.optim.Adagrad\n",
        "- torch.optim.Adam\n",
        "- torch.optim.Adamax\n",
        "- torch.optim.ASGD\n",
        "- torch.optim.LBFGS\n",
        "- torch.optim.RMSprop\n",
        "- torch.optim.Rprop\n",
        "- torch.optim.SGD\n",
        "\n",
        "## Exercise 5-2 : Read more PyTorch examples"
      ]
    }
  ]
}