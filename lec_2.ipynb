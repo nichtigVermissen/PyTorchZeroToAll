{
  "nbformat": 4,
  "nbformat_minor": 0,
  "metadata": {
    "colab": {
      "name": "lec_2.ipynb",
      "provenance": [],
      "authorship_tag": "ABX9TyM6/lkc1/ZgG7BZJJOdtKod",
      "include_colab_link": true
    },
    "kernelspec": {
      "name": "python3",
      "display_name": "Python 3"
    },
    "language_info": {
      "name": "python"
    }
  },
  "cells": [
    {
      "cell_type": "markdown",
      "metadata": {
        "id": "view-in-github",
        "colab_type": "text"
      },
      "source": [
        "<a href=\"https://colab.research.google.com/github/nichtigVermissen/PyTorchZeroToAll/blob/master/lec_2.ipynb\" target=\"_parent\"><img src=\"https://colab.research.google.com/assets/colab-badge.svg\" alt=\"Open In Colab\"/></a>"
      ]
    },
    {
      "cell_type": "code",
      "metadata": {
        "id": "H1sl2A6drza7"
      },
      "source": [
        "import numpy as np\n",
        "import matplotlib.pyplot as plt"
      ],
      "execution_count": 12,
      "outputs": []
    },
    {
      "cell_type": "code",
      "metadata": {
        "id": "kBxLaS-Pw5Fo"
      },
      "source": [
        "x_data = [1.0, 2.0, 3.0]\n",
        "y_data = [2.0, 4.0, 6.0]"
      ],
      "execution_count": 13,
      "outputs": []
    },
    {
      "cell_type": "code",
      "metadata": {
        "id": "LUlXllsTxFS_"
      },
      "source": [
        "w = 1.0 # a random guess: random value\n",
        "\n",
        "# our model for the foward pass\n",
        "def forward(x):\n",
        "  return x * w\n",
        "\n",
        "# Loss function\n",
        "def loss(x,y):\n",
        "  y_pred = forward(x)\n",
        "  return (y_pred - y) ** 2"
      ],
      "execution_count": 22,
      "outputs": []
    },
    {
      "cell_type": "code",
      "metadata": {
        "id": "A9587TqsxRAT"
      },
      "source": [
        "w_list = []\n",
        "mse_list = []"
      ],
      "execution_count": 20,
      "outputs": []
    },
    {
      "cell_type": "code",
      "metadata": {
        "id": "uZ4YnS_TxHcA"
      },
      "source": [
        "for w in np.arange(0.0, 4.1, 0.1):\n",
        "  print(\"w=\", w)\n",
        "  l_sum = 0\n",
        "  for x_val, y_val in zip(x_data, y_data):\n",
        "    y_pred_val = forward(x_val)\n",
        "    l = loss(x_val, y_val)\n",
        "    l_sum += l\n",
        "    print(\"\\t\", x_val, y_val, y_pred_val, l)\n",
        "  print(\"MSE=\", l_sum / 3)\n",
        "  w_list.append(w)\n",
        "  mse_list.append(l_sum / 3)"
      ],
      "execution_count": null,
      "outputs": []
    },
    {
      "cell_type": "markdown",
      "metadata": {
        "id": "sVpBKUfnyIIQ"
      },
      "source": [
        "# Exercise 2-1\n",
        "- Any other interesting linear prediction problems?\n",
        "- Find some datasets for linear prediction\n",
        "\n",
        "  -- Draw the cost graph for one dataset"
      ]
    }
  ]
}