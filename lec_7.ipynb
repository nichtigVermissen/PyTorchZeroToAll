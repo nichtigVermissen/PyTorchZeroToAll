{
  "nbformat": 4,
  "nbformat_minor": 0,
  "metadata": {
    "colab": {
      "name": "lec_7.ipynb",
      "provenance": [],
      "authorship_tag": "ABX9TyNK9Gh339PeL5Ls2x8X3i0b",
      "include_colab_link": true
    },
    "kernelspec": {
      "name": "python3",
      "display_name": "Python 3"
    },
    "language_info": {
      "name": "python"
    }
  },
  "cells": [
    {
      "cell_type": "markdown",
      "metadata": {
        "id": "view-in-github",
        "colab_type": "text"
      },
      "source": [
        "<a href=\"https://colab.research.google.com/github/nichtigVermissen/PyTorchZeroToAll/blob/master/lec_7.ipynb\" target=\"_parent\"><img src=\"https://colab.research.google.com/assets/colab-badge.svg\" alt=\"Open In Colab\"/></a>"
      ]
    },
    {
      "cell_type": "code",
      "metadata": {
        "colab": {
          "base_uri": "https://localhost:8080/"
        },
        "id": "G7jDtJ9PauO2",
        "outputId": "2963be72-c5c8-4903-b849-ae57b373ebac"
      },
      "source": [
        "from google.colab import drive\n",
        "drive.mount(\"/content/drive\", force_remount=True)"
      ],
      "execution_count": 5,
      "outputs": [
        {
          "output_type": "stream",
          "text": [
            "Mounted at /content/drive\n"
          ],
          "name": "stdout"
        }
      ]
    },
    {
      "cell_type": "code",
      "metadata": {
        "colab": {
          "base_uri": "https://localhost:8080/"
        },
        "id": "LSNL24G4bawC",
        "outputId": "c1133444-23ed-453d-ecb5-fd31e4145017"
      },
      "source": [
        "cd /content/drive/My Drive/Colab Notebooks/data"
      ],
      "execution_count": 10,
      "outputs": [
        {
          "output_type": "stream",
          "text": [
            "/content/drive/My Drive/Colab Notebooks/data\n"
          ],
          "name": "stdout"
        }
      ]
    },
    {
      "cell_type": "code",
      "metadata": {
        "colab": {
          "base_uri": "https://localhost:8080/"
        },
        "id": "2MMF7L5bcdic",
        "outputId": "bf88d337-53b4-48c4-a945-c2ca7626d3ac"
      },
      "source": [
        "!ls"
      ],
      "execution_count": 11,
      "outputs": [
        {
          "output_type": "stream",
          "text": [
            "diabetes.csv  diabetes.csv.gz\n"
          ],
          "name": "stdout"
        }
      ]
    },
    {
      "cell_type": "code",
      "metadata": {
        "colab": {
          "base_uri": "https://localhost:8080/"
        },
        "id": "4X3wSJbWUiMX",
        "outputId": "a0ae51f8-73c7-41e2-fe0a-b61f8a42ef7d"
      },
      "source": [
        "import torch\n",
        "import pdb\n",
        "import numpy as np\n",
        "\n",
        "xy = np.loadtxt('./diabetes.csv', delimiter=',', dtype=np.float32)\n",
        "x_data = torch.from_numpy(xy[:, 0: -1])\n",
        "y_data = torch.from_numpy(xy[:, [-1]])\n",
        "\n",
        "print(x_data.shape, y_data.shape)\n",
        "\n",
        "class Model(torch.nn.Module):\n",
        "  def __init__(self):\n",
        "    super(Model, self).__init__()\n",
        "    self.l1 = torch.nn.Linear(8, 6) \n",
        "    self.l2 = torch.nn.Linear(6, 4) \n",
        "    self.l3 = torch.nn.Linear(4, 1) \n",
        "\n",
        "    self.sigmoid = torch.nn.Sigmoid()\n",
        "\n",
        "  def forward(self, x):\n",
        "    out1 = self.sigmoid(self.l1(x))\n",
        "    out2 = self.sigmoid(self.l2(out1))\n",
        "    y_pred = self.sigmoid(self.l3(out2))\n",
        "    return y_pred\n",
        "\n",
        "model = Model()\n",
        "\n",
        "criterion = torch.nn.BCELoss(reduction='mean')\n",
        "optimizer = torch.optim.SGD(model.parameters(), lr = 0.1)\n",
        "\n",
        "for epoch in range(100):\n",
        "  y_pred = model(x_data)\n",
        "  \n",
        "  loss = criterion(y_pred, y_data)\n",
        "  print(epoch, loss.item())\n",
        "\n",
        "  optimizer.zero_grad()\n",
        "  loss.backward()\n",
        "  optimizer.step()"
      ],
      "execution_count": 53,
      "outputs": [
        {
          "output_type": "stream",
          "text": [
            "torch.Size([759, 8]) torch.Size([759, 1])\n",
            "0 0.7679830193519592\n",
            "1 0.7576848864555359\n",
            "2 0.7482633590698242\n",
            "3 0.739644467830658\n",
            "4 0.7317600846290588\n",
            "5 0.7245474457740784\n",
            "6 0.7179492115974426\n",
            "7 0.7119124531745911\n",
            "8 0.7063886523246765\n",
            "9 0.70133376121521\n",
            "10 0.6967069506645203\n",
            "11 0.692471444606781\n",
            "12 0.688593327999115\n",
            "13 0.685041606426239\n",
            "14 0.6817882657051086\n",
            "15 0.6788074970245361\n",
            "16 0.6760758757591248\n",
            "17 0.6735720038414001\n",
            "18 0.6712762713432312\n",
            "19 0.6691708564758301\n",
            "20 0.6672397255897522\n",
            "21 0.6654677391052246\n",
            "22 0.6638416051864624\n",
            "23 0.6623488664627075\n",
            "24 0.660978376865387\n",
            "25 0.6597196459770203\n",
            "26 0.6585635542869568\n",
            "27 0.657501220703125\n",
            "28 0.6565250158309937\n",
            "29 0.6556277275085449\n",
            "30 0.6548027992248535\n",
            "31 0.6540442109107971\n",
            "32 0.6533465385437012\n",
            "33 0.6527047157287598\n",
            "34 0.6521141529083252\n",
            "35 0.651570737361908\n",
            "36 0.6510705351829529\n",
            "37 0.650610089302063\n",
            "38 0.6501861214637756\n",
            "39 0.649795651435852\n",
            "40 0.6494361162185669\n",
            "41 0.64910489320755\n",
            "42 0.6487997174263\n",
            "43 0.6485185027122498\n",
            "44 0.6482592821121216\n",
            "45 0.6480204463005066\n",
            "46 0.6478002667427063\n",
            "47 0.6475973129272461\n",
            "48 0.6474100947380066\n",
            "49 0.6472374796867371\n",
            "50 0.6470783352851868\n",
            "51 0.6469314694404602\n",
            "52 0.6467960476875305\n",
            "53 0.6466709971427917\n",
            "54 0.6465557217597961\n",
            "55 0.6464493274688721\n",
            "56 0.6463510990142822\n",
            "57 0.6462604403495789\n",
            "58 0.646176815032959\n",
            "59 0.6460995674133301\n",
            "60 0.6460282206535339\n",
            "61 0.6459624171257019\n",
            "62 0.6459015607833862\n",
            "63 0.6458454728126526\n",
            "64 0.645793616771698\n",
            "65 0.6457456946372986\n",
            "66 0.6457014679908752\n",
            "67 0.6456605792045593\n",
            "68 0.6456229090690613\n",
            "69 0.6455879807472229\n",
            "70 0.6455556750297546\n",
            "71 0.6455259323120117\n",
            "72 0.6454983949661255\n",
            "73 0.6454729437828064\n",
            "74 0.6454493999481201\n",
            "75 0.6454276442527771\n",
            "76 0.645407497882843\n",
            "77 0.6453889012336731\n",
            "78 0.6453716158866882\n",
            "79 0.6453558206558228\n",
            "80 0.6453410387039185\n",
            "81 0.6453274488449097\n",
            "82 0.6453148722648621\n",
            "83 0.6453031897544861\n",
            "84 0.6452924013137817\n",
            "85 0.645282506942749\n",
            "86 0.6452732682228088\n",
            "87 0.6452646255493164\n",
            "88 0.6452566981315613\n",
            "89 0.6452494263648987\n",
            "90 0.6452425718307495\n",
            "91 0.6452363133430481\n",
            "92 0.6452304720878601\n",
            "93 0.6452249884605408\n",
            "94 0.6452199816703796\n",
            "95 0.6452152729034424\n",
            "96 0.6452111005783081\n",
            "97 0.6452070474624634\n",
            "98 0.6452032923698425\n",
            "99 0.6451998353004456\n"
          ],
          "name": "stdout"
        }
      ]
    },
    {
      "cell_type": "markdown",
      "metadata": {
        "id": "_mIt0lNIWmdy"
      },
      "source": [
        "## Exercise 7-1\n",
        "\n",
        "\n",
        "*   Classifying Diabetes with deep nets\n",
        "    - More than 10 layers\n",
        "*   Find other classification problems/datasets\n",
        "    - Try with deep network\n",
        "*   Try different activation functions\n"
      ]
    },
    {
      "cell_type": "code",
      "metadata": {
        "colab": {
          "base_uri": "https://localhost:8080/"
        },
        "id": "HK3-qqrBXdyv",
        "outputId": "575e3185-8734-4df7-f5cf-036fb10f141e"
      },
      "source": [
        "class Model_2(torch.nn.Module):\n",
        "  def __init__(self):\n",
        "    super(Model_2, self).__init__()\n",
        "    self.l1 = torch.nn.Linear(8, 6) \n",
        "    self.l2 = torch.nn.Linear(6, 4) \n",
        "    self.l3 = torch.nn.Linear(4, 1) \n",
        "\n",
        "    self.ReLU = torch.nn.ReLU()\n",
        "\n",
        "  def forward(self, x):\n",
        "    out1 = self.ReLU(self.l1(x))\n",
        "    out2 = self.ReLU(self.l2(out1))\n",
        "    y_pred = self.ReLU(self.l3(out2))\n",
        "    return y_pred\n",
        "\n",
        "model = Model_2()\n",
        "\n",
        "criterion = torch.nn.BCEWithLogitsLoss(reduction='mean')\n",
        "optimizer = torch.optim.SGD(model.parameters(), lr = 0.1)\n",
        "\n",
        "for epoch in range(100):\n",
        "  y_pred = model(x_data)\n",
        "  \n",
        "  loss = criterion(y_pred, y_data)\n",
        "  print(epoch, loss.item())\n",
        "\n",
        "  optimizer.zero_grad()\n",
        "  loss.backward()\n",
        "  optimizer.step()"
      ],
      "execution_count": 55,
      "outputs": [
        {
          "output_type": "stream",
          "text": [
            "0 0.6928796768188477\n",
            "1 0.6927528977394104\n",
            "2 0.6925246715545654\n",
            "3 0.6922347545623779\n",
            "4 0.6917648315429688\n",
            "5 0.6910126805305481\n",
            "6 0.6898459792137146\n",
            "7 0.6879504919052124\n",
            "8 0.6853744387626648\n",
            "9 0.6827573776245117\n",
            "10 0.6802594065666199\n",
            "11 0.6778594851493835\n",
            "12 0.675590991973877\n",
            "13 0.6734567284584045\n",
            "14 0.6714464426040649\n",
            "15 0.6695556044578552\n",
            "16 0.6677742004394531\n",
            "17 0.6660991311073303\n",
            "18 0.6645219326019287\n",
            "19 0.6630387306213379\n",
            "20 0.6616417765617371\n",
            "21 0.6603277921676636\n",
            "22 0.6590916514396667\n",
            "23 0.6579287648200989\n",
            "24 0.6568359136581421\n",
            "25 0.6558074951171875\n",
            "26 0.654840350151062\n",
            "27 0.6539299488067627\n",
            "28 0.6530740261077881\n",
            "29 0.65226811170578\n",
            "30 0.6515099406242371\n",
            "31 0.6507951021194458\n",
            "32 0.6501211524009705\n",
            "33 0.6494857668876648\n",
            "34 0.6488873958587646\n",
            "35 0.6483230590820312\n",
            "36 0.6477909088134766\n",
            "37 0.6472882032394409\n",
            "38 0.646812379360199\n",
            "39 0.6463634371757507\n",
            "40 0.6459380984306335\n",
            "41 0.6455352902412415\n",
            "42 0.6451538801193237\n",
            "43 0.6447933316230774\n",
            "44 0.6444515585899353\n",
            "45 0.644127368927002\n",
            "46 0.6438195705413818\n",
            "47 0.6435263752937317\n",
            "48 0.6432464718818665\n",
            "49 0.6429796814918518\n",
            "50 0.6427251100540161\n",
            "51 0.6424821019172668\n",
            "52 0.6422498822212219\n",
            "53 0.6420273780822754\n",
            "54 0.6418137550354004\n",
            "55 0.6416080594062805\n",
            "56 0.641409695148468\n",
            "57 0.6412183046340942\n",
            "58 0.6410329937934875\n",
            "59 0.6408535242080688\n",
            "60 0.6406794190406799\n",
            "61 0.6405101418495178\n",
            "62 0.6403458118438721\n",
            "63 0.6401859521865845\n",
            "64 0.6400294303894043\n",
            "65 0.6398768424987793\n",
            "66 0.6397278308868408\n",
            "67 0.6395817995071411\n",
            "68 0.6394379138946533\n",
            "69 0.639296293258667\n",
            "70 0.6391558647155762\n",
            "71 0.63901686668396\n",
            "72 0.6388795375823975\n",
            "73 0.6387434601783752\n",
            "74 0.6386085152626038\n",
            "75 0.6384747624397278\n",
            "76 0.6383417844772339\n",
            "77 0.6382094621658325\n",
            "78 0.6380773782730103\n",
            "79 0.6379458904266357\n",
            "80 0.6378148794174194\n",
            "81 0.6376844048500061\n",
            "82 0.6375542879104614\n",
            "83 0.6374240517616272\n",
            "84 0.6372936367988586\n",
            "85 0.6371625065803528\n",
            "86 0.6370304226875305\n",
            "87 0.6368974447250366\n",
            "88 0.6367635726928711\n",
            "89 0.6366286277770996\n",
            "90 0.6364930868148804\n",
            "91 0.6363566517829895\n",
            "92 0.6362197995185852\n",
            "93 0.6360819339752197\n",
            "94 0.6359423995018005\n",
            "95 0.6358015537261963\n",
            "96 0.6356594562530518\n",
            "97 0.6355158090591431\n",
            "98 0.6353704333305359\n",
            "99 0.6352227330207825\n"
          ],
          "name": "stdout"
        }
      ]
    }
  ]
}